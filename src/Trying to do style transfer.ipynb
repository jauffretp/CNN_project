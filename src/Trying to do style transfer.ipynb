{
 "cells": [
  {
   "cell_type": "code",
   "execution_count": 15,
   "metadata": {
    "collapsed": false
   },
   "outputs": [],
   "source": [
    "\n",
    "from __future__ import print_function\n",
    "\n",
    "from scipy.misc import imsave\n",
    "import numpy as np\n",
    "import time\n",
    "from keras.applications import vgg19\n",
    "from keras import backend as K\n",
    "\n",
    "from keras.preprocessing import image\n",
    "from keras.models import Model\n",
    "from keras.applications.vgg19 import preprocess_input\n",
    "\n",
    "import matplotlib.pyplot as plt"
   ]
  },
  {
   "cell_type": "code",
   "execution_count": 2,
   "metadata": {
    "collapsed": false
   },
   "outputs": [],
   "source": [
    "content = image.load_img(\"chien.jpg\")\n",
    "content_array = image.img_to_array(content)\n",
    "\n",
    "\n",
    "height = content_array.shape[0]\n",
    "width = content_array.shape[1]\n",
    "\n",
    "\n",
    "style = image.load_img(\"style.jpg\", target_size=(height,width))\n",
    "style_array = image.img_to_array(style)\n",
    "\n",
    "content_array = np.expand_dims(content_array, axis=0)\n",
    "content_array = preprocess_input(content_array)\n",
    "style_array = np.expand_dims(style_array, axis=0)\n",
    "style_array = preprocess_input(style_array)\n",
    "\n",
    "assert content_array.shape == style_array.shape"
   ]
  },
  {
   "cell_type": "code",
   "execution_count": 3,
   "metadata": {
    "collapsed": true
   },
   "outputs": [],
   "source": [
    "model = vgg19.VGG19(weights='imagenet', include_top=False)"
   ]
  },
  {
   "cell_type": "code",
   "execution_count": 4,
   "metadata": {
    "collapsed": false
   },
   "outputs": [],
   "source": [
    "layers_name = [layer.name for layer in model.layers]"
   ]
  },
  {
   "cell_type": "code",
   "execution_count": 5,
   "metadata": {
    "collapsed": false
   },
   "outputs": [],
   "source": [
    "\n",
    "model_dict = dict([(name,Model(inputs=model.input, outputs=model.get_layer(name).output) ) for name in layers_name])\n",
    "\n",
    "\n",
    "\n",
    "\n"
   ]
  },
  {
   "cell_type": "code",
   "execution_count": 6,
   "metadata": {
    "collapsed": false
   },
   "outputs": [
    {
     "data": {
      "text/plain": [
       "'\\nlayer = model_dict[\"block1_conv1\"]\\n\\n\\ncontent2 = image.load_img(\"chien.jpg\",target_size=(224,224))\\ncontent2_array = image.img_to_array(content2)\\ncontent2_array = np.expand_dims(content2_array, axis=0)\\n#content2_array = preprocess_input(content2_array)\\nmodel2 = vgg19.VGG19(weights=\\'imagenet\\', include_top=True)\\npreds = model2.predict(content2_array)\\ndecode_predictions(preds)\\n'"
      ]
     },
     "execution_count": 6,
     "metadata": {},
     "output_type": "execute_result"
    }
   ],
   "source": [
    "'''\n",
    "layer = model_dict[\"block1_conv1\"]\n",
    "\n",
    "\n",
    "content2 = image.load_img(\"chien.jpg\",target_size=(224,224))\n",
    "content2_array = image.img_to_array(content2)\n",
    "content2_array = np.expand_dims(content2_array, axis=0)\n",
    "#content2_array = preprocess_input(content2_array)\n",
    "model2 = vgg19.VGG19(weights='imagenet', include_top=True)\n",
    "preds = model2.predict(content2_array)\n",
    "decode_predictions(preds)\n",
    "'''\n",
    "\n"
   ]
  },
  {
   "cell_type": "code",
   "execution_count": 7,
   "metadata": {
    "collapsed": false
   },
   "outputs": [
    {
     "name": "stdout",
     "output_type": "stream",
     "text": [
      "Layer name :  input_1\n",
      "Layer name :  block1_conv1\n",
      "Adding filter of shape  (1, 467, 700, 64)  to style list\n",
      "Layer name :  block1_conv2\n",
      "Layer name :  block1_pool\n",
      "Layer name :  block2_conv1\n",
      "Adding filter of shape  (1, 233, 350, 128)  to style list\n",
      "Layer name :  block2_conv2\n",
      "Layer name :  block2_pool\n",
      "Layer name :  block3_conv1\n",
      "Adding filter of shape  (1, 116, 175, 256)  to style list\n",
      "Layer name :  block3_conv2\n",
      "Layer name :  block3_conv3\n",
      "Layer name :  block3_conv4\n",
      "Layer name :  block3_pool\n",
      "Layer name :  block4_conv1\n",
      "Adding filter of shape  (1, 58, 87, 512)  to style list\n",
      "Adding filter of shape  (1, 58, 87, 512)  to content list\n",
      "Layer name :  block4_conv2\n",
      "Layer name :  block4_conv3\n",
      "Layer name :  block4_conv4\n",
      "Layer name :  block4_pool\n",
      "Layer name :  block5_conv1\n",
      "Adding filter of shape  (1, 29, 43, 512)  to style list\n",
      "Layer name :  block5_conv2\n",
      "Layer name :  block5_conv3\n",
      "Layer name :  block5_conv4\n",
      "Layer name :  block5_pool\n"
     ]
    }
   ],
   "source": [
    "filter_style = {}\n",
    "filter_content = {}\n",
    "\n",
    "layers_style = [\"block1_conv1\", \"block2_conv1\", \"block3_conv1\", \"block4_conv1\", \"block5_conv1\"]\n",
    "layers_content = [\"block4_conv1\"]\n",
    "\n",
    "for name in layers_name:\n",
    "    print(\"Layer name : \", name)\n",
    "    if name in layers_style:\n",
    "        model_layer = model_dict[name]\n",
    "        conv = model_layer.predict(style_array)\n",
    "        filter_style[name] = conv\n",
    "        print(\"Adding filter of shape \", conv.shape, \" to style list\")\n",
    "    \n",
    "    if name in layers_content:\n",
    "        model_layer = model_dict[name]\n",
    "        conv = model_layer.predict(style_array)\n",
    "        filter_content[name] = conv\n",
    "        print(\"Adding filter of shape \", conv.shape, \" to content list\")\n",
    "    "
   ]
  },
  {
   "cell_type": "code",
   "execution_count": 10,
   "metadata": {
    "collapsed": false
   },
   "outputs": [
    {
     "name": "stdout",
     "output_type": "stream",
     "text": [
      "block3_conv1\n",
      "(1, 116, 175, 256)\n",
      "block2_conv1\n",
      "(1, 233, 350, 128)\n",
      "block4_conv1\n",
      "(1, 58, 87, 512)\n",
      "block5_conv1\n",
      "(1, 29, 43, 512)\n",
      "block1_conv1\n",
      "(1, 467, 700, 64)\n"
     ]
    }
   ],
   "source": [
    "gram_dict_style = {}\n",
    "for key in filter_style:\n",
    "    print(key)\n",
    "    filters= filter_style[key]\n",
    "    shape = filters.shape    \n",
    "    print(shape)\n",
    "    gram = np.zeros((shape[3],shape[3]))\n",
    "    \n",
    "    for i in range(shape[3]):\n",
    "        for j in range(shape[3]):\n",
    "            #print(i,j)\n",
    "            response_i = filters[0,:,:,i].ravel()\n",
    "            response_j = filters[0,:,:,j].ravel()\n",
    "            \n",
    "            corr = response_i.dot(response_j)\n",
    "            gram[i,j] = corr\n",
    "    \n",
    "    gram_dict_style[key] = gram"
   ]
  },
  {
   "cell_type": "code",
   "execution_count": 28,
   "metadata": {
    "collapsed": false
   },
   "outputs": [],
   "source": [
    "input_img = model.input\n",
    "\n",
    "img_data = np.random.random((1, height, width,3)) * 255\n",
    "\n",
    "img_data = preprocess_input(img_data)\n"
   ]
  },
  {
   "cell_type": "code",
   "execution_count": 35,
   "metadata": {
    "collapsed": false
   },
   "outputs": [
    {
     "name": "stdout",
     "output_type": "stream",
     "text": [
      "Layer name :  input_1\n",
      "Layer name :  block1_conv1\n",
      "Adding model to style list\n",
      "Layer name :  block1_conv2\n",
      "Layer name :  block1_pool\n",
      "Layer name :  block2_conv1\n",
      "Adding model to style list\n",
      "Layer name :  block2_conv2\n",
      "Layer name :  block2_pool\n",
      "Layer name :  block3_conv1\n",
      "Adding model to style list\n",
      "Layer name :  block3_conv2\n",
      "Layer name :  block3_conv3\n",
      "Layer name :  block3_conv4\n",
      "Layer name :  block3_pool\n",
      "Layer name :  block4_conv1\n",
      "Adding model to style list\n",
      "Adding filter to content list\n",
      "Layer name :  block4_conv2\n",
      "Layer name :  block4_conv3\n",
      "Layer name :  block4_conv4\n",
      "Layer name :  block4_pool\n",
      "Layer name :  block5_conv1\n",
      "Adding model to style list\n",
      "Layer name :  block5_conv2\n",
      "Layer name :  block5_conv3\n",
      "Layer name :  block5_conv4\n",
      "Layer name :  block5_pool\n",
      "block3_conv1\n",
      "(?, ?, ?, 256)\n"
     ]
    },
    {
     "ename": "AttributeError",
     "evalue": "'Tensor' object has no attribute 'ravel'",
     "output_type": "error",
     "traceback": [
      "\u001b[0;31m---------------------------------------------------------------------------\u001b[0m",
      "\u001b[0;31mAttributeError\u001b[0m                            Traceback (most recent call last)",
      "\u001b[0;32m<ipython-input-35-f38c9d5d1870>\u001b[0m in \u001b[0;36m<module>\u001b[0;34m()\u001b[0m\n\u001b[1;32m     29\u001b[0m         \u001b[0;32mfor\u001b[0m \u001b[0mj\u001b[0m \u001b[0;32min\u001b[0m \u001b[0mrange\u001b[0m\u001b[0;34m(\u001b[0m\u001b[0mshape\u001b[0m\u001b[0;34m[\u001b[0m\u001b[0;36m3\u001b[0m\u001b[0;34m]\u001b[0m\u001b[0;34m)\u001b[0m\u001b[0;34m:\u001b[0m\u001b[0;34m\u001b[0m\u001b[0m\n\u001b[1;32m     30\u001b[0m             \u001b[0;31m#print(i,j)\u001b[0m\u001b[0;34m\u001b[0m\u001b[0;34m\u001b[0m\u001b[0m\n\u001b[0;32m---> 31\u001b[0;31m             \u001b[0mresponse_i\u001b[0m \u001b[0;34m=\u001b[0m \u001b[0mfilters\u001b[0m\u001b[0;34m[\u001b[0m\u001b[0;36m0\u001b[0m\u001b[0;34m,\u001b[0m\u001b[0;34m:\u001b[0m\u001b[0;34m,\u001b[0m\u001b[0;34m:\u001b[0m\u001b[0;34m,\u001b[0m\u001b[0mi\u001b[0m\u001b[0;34m]\u001b[0m\u001b[0;34m.\u001b[0m\u001b[0mravel\u001b[0m\u001b[0;34m(\u001b[0m\u001b[0;34m)\u001b[0m\u001b[0;34m\u001b[0m\u001b[0m\n\u001b[0m\u001b[1;32m     32\u001b[0m             \u001b[0mresponse_j\u001b[0m \u001b[0;34m=\u001b[0m \u001b[0mfilters\u001b[0m\u001b[0;34m[\u001b[0m\u001b[0;36m0\u001b[0m\u001b[0;34m,\u001b[0m\u001b[0;34m:\u001b[0m\u001b[0;34m,\u001b[0m\u001b[0;34m:\u001b[0m\u001b[0;34m,\u001b[0m\u001b[0mj\u001b[0m\u001b[0;34m]\u001b[0m\u001b[0;34m.\u001b[0m\u001b[0mravel\u001b[0m\u001b[0;34m(\u001b[0m\u001b[0;34m)\u001b[0m\u001b[0;34m\u001b[0m\u001b[0m\n\u001b[1;32m     33\u001b[0m \u001b[0;34m\u001b[0m\u001b[0m\n",
      "\u001b[0;31mAttributeError\u001b[0m: 'Tensor' object has no attribute 'ravel'"
     ]
    }
   ],
   "source": [
    "filter_style_img = {}\n",
    "filter_content_img = {}\n",
    "\n",
    "for name in layers_name:\n",
    "    print(\"Layer name : \", name)\n",
    "    if name in layers_style:\n",
    "        model_layer = model_dict[name]\n",
    "        conv = model_layer.output\n",
    "        ?conv\n",
    "        filter_style_img[name] = conv\n",
    "        print(\"Adding model to style list\")\n",
    "    \n",
    "    if name in layers_content:\n",
    "        model_layer = model_dict[name]\n",
    "        conv = model_layer.output\n",
    "        filter_content_img[name] = conv\n",
    "        print(\"Adding filter to content list\")\n",
    "        \n",
    "\n",
    "gram_dict_style_img = {}\n",
    "for key in filter_style_img:\n",
    "    print(key)\n",
    "    filters= filter_style_img[key]\n",
    "    shape = filters.get_shape()    \n",
    "    print(shape)\n",
    "    gram= np.zeros((shape[3],shape[3]))\n",
    "    \n",
    "    for i in range(shape[3]):\n",
    "        for j in range(shape[3]):\n",
    "            #print(i,j)\n",
    "            response_i = filters[0,:,:,i].ravel()\n",
    "            response_j = filters[0,:,:,j].ravel()\n",
    "            \n",
    "            corr = response_i.dot(response_j)\n",
    "            gram[i,j] = corr\n",
    "    \n",
    "    gram_dict_style_img[key] = gram"
   ]
  },
  {
   "cell_type": "code",
   "execution_count": 37,
   "metadata": {
    "collapsed": true
   },
   "outputs": [],
   "source": [
    "?K.mean"
   ]
  },
  {
   "cell_type": "code",
   "execution_count": 27,
   "metadata": {
    "collapsed": false
   },
   "outputs": [
    {
     "name": "stdout",
     "output_type": "stream",
     "text": [
      "(1, 467, 700, 3)\n",
      "(467, 700, 3)\n"
     ]
    }
   ],
   "source": [
    "\n",
    "print(img_data.shape)\n",
    "print(img_data[0].shape)\n",
    "plt.imshow(img_data[0])\n",
    "plt.show()"
   ]
  },
  {
   "cell_type": "code",
   "execution_count": 9,
   "metadata": {
    "collapsed": false
   },
   "outputs": [
    {
     "name": "stdout",
     "output_type": "stream",
     "text": [
      "[1 1 1 2 2 2]\n",
      "[1 1 1 2 2 2]\n",
      "15\n",
      "15\n"
     ]
    }
   ],
   "source": [
    "a = np.array([[1,1,1],[2,2,2]])\n",
    "ar = a.ravel()\n",
    "art = a.ravel().T\n",
    "\n",
    "print(ar)\n",
    "print(art)\n",
    "print(ar.dot(ar))\n",
    "print(ar.dot(art))"
   ]
  }
 ],
 "metadata": {
  "kernelspec": {
   "display_name": "Python 3",
   "language": "python",
   "name": "python3"
  },
  "language_info": {
   "codemirror_mode": {
    "name": "ipython",
    "version": 3
   },
   "file_extension": ".py",
   "mimetype": "text/x-python",
   "name": "python",
   "nbconvert_exporter": "python",
   "pygments_lexer": "ipython3",
   "version": "3.4.3"
  }
 },
 "nbformat": 4,
 "nbformat_minor": 1
}
